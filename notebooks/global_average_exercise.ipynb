{
 "cells": [
  {
   "cell_type": "code",
   "execution_count": 1,
   "metadata": {},
   "outputs": [],
   "source": [
    "import os\n",
    "import netCDF4 as nc\n",
    "import numpy as np\n",
    "import matplotlib.pyplot as plt\n",
    "%matplotlib inline"
   ]
  },
  {
   "cell_type": "markdown",
   "metadata": {},
   "source": [
    "\n",
    "# Exercise: calculate global-average temperature changes\n",
    "\n",
    "### Use the netCDF4 module to load in temperature data from \n",
    "\n",
    "See `climate_data_tutorial.ipynb` for example code on how to load in and plot temperature data that is saved in the netCDF4-formatted file `OBS_BerkeleyEarth_2008-2017.nc`.\n",
    "\n",
    "### Make a function that converts a change in latitude to meters\n",
    "\n",
    "The radius of the Earth is approximately $a = 6371$ kilometers. The formula for the circumference of a disc is $l = 2\\pi r$. Calculate the circumference of the Earth and calculate how long the circle's arc would be for one degree of latitude. Use this formula to write a `function` that converts a change in latitude $\\delta \\phi$ into a distance in meters. See the `calculate_x_squared(x)` function below for an example of how a python `function` works.\n",
    "\n",
    "### Make a function that converts a change in longitude to meters\n",
    "\n",
    "Longitude is a little bit tricker because circle of latitude (i.e. the circle around the Earth at a constant latitude) changes in size depending on which latitude you're at. Specifically, if the circumference at the equator is $l = 2\\pi a$, then the circumference at a specific latitude is $l(\\phi) = l \\cos{\\phi}$ (make sure you convert to radians when you calculate the cosine of the latitude). Make a function which takes as inputs 1) a latitude and 2) a change in longitudes, and returns a distance in meters.\n",
    "\n",
    "### Make a new variable `dA` for the area of a grid cell\n",
    "Using the two functions described above, calculate the meridional (north-south) length `dy` of a grid cell and the zonal (east-west) length `dx` of a grid cell. Multiply these together to calculate the area `dA` of a grid cell. When you take a sum (`dA.sum()`) over all of the grid cells, you should get back Earth's surface area! Double check your answer with the actual area of the planet given by the geometric formula for the surface area of a sphere $A = 4\\pi r^{2}$. Don't move on to the next section `dA.sum()` gives you the same answer as `4*np.pi*a**2` (the mathematical formula for the surface area of a sphere with radius `a`), with at least 3 significant digits.\n",
    "\n",
    "Hint: Use `np.diff` to calculate changes in longitude and latitude that you will input in the functions for `dx` and `dy`. Be careful, when you use `np.diff`, you will get back an array that is smaller than the previous array. For example, if `a = [1,2,5]`, then `np.diff(a) = [2,5] - [1,2] = [1,3]`. To solve this problem in practice, just double the last value of `dx` and `dy` so that you get back an array of the same size as your variables.\n",
    "\n",
    "### Make a function that calculates the global average of a quantity\n",
    "\n",
    "The formula for a global average of a quantity $C$ is:\n",
    "\n",
    "\\begin{equation}\n",
    "\\overline{C} = \\frac{\\int \\int C\\; \\text{d}A}{\\int \\int \\text{d}A},\n",
    "\\end{equation}\n",
    "\n",
    "where $\\int \\int \\text{d} A$ is just the area element integrated over the whole planet, i.e. the global surface area. To calculate this in practice, we use the discretized version of the integral, i.e. a Riemann summ:\n",
    "\n",
    "\\begin{equation}\n",
    "\\overline{C} \\approx \\frac{\\sum  C \\Delta A}{\\sum \\Delta A},\n",
    "\\end{equation}\n",
    "where $\\Delta A$ is the area of each grid cell in our model and $\\sum$ represents a sum over all of the grid cells. To do this properly, we need to use the function we defined above to calculate $\\Delta A$, the area of each grid cell, based on the change in latitude $\\delta \\phi$ and longitude $\\delta \\lambda$ across the grid cell.\n",
    "\n",
    "### Plot the global-average temperature as a function of time between 2008 and 2017."
   ]
  },
  {
   "cell_type": "code",
   "execution_count": 2,
   "metadata": {},
   "outputs": [
    {
     "name": "stdout",
     "output_type": "stream",
     "text": [
      "If x = 17 then x^2 = 289\n"
     ]
    }
   ],
   "source": [
    "'''Consider an example function which takes in a variable x\n",
    "as an input argument and returns x^2 as an output'''\n",
    "def calculate_x_squared(x):\n",
    "    return x*x\n",
    "\n",
    "x = 17\n",
    "x_squared = calculate_x_squared(x)\n",
    "print('If x = '+str(x)+' then x^2 = '+str(x_squared))"
   ]
  },
  {
   "cell_type": "code",
   "execution_count": null,
   "metadata": {},
   "outputs": [],
   "source": []
  }
 ],
 "metadata": {
  "kernelspec": {
   "display_name": "Python 3",
   "language": "python",
   "name": "python3"
  },
  "language_info": {
   "codemirror_mode": {
    "name": "ipython",
    "version": 3
   },
   "file_extension": ".py",
   "mimetype": "text/x-python",
   "name": "python",
   "nbconvert_exporter": "python",
   "pygments_lexer": "ipython3",
   "version": "3.7.2"
  }
 },
 "nbformat": 4,
 "nbformat_minor": 2
}
